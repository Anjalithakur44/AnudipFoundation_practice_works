{
 "cells": [
  {
   "cell_type": "code",
   "execution_count": 1,
   "id": "a6261d3a-848b-429d-87b6-4b2bc1be013e",
   "metadata": {},
   "outputs": [
    {
     "data": {
      "text/plain": [
       "10"
      ]
     },
     "execution_count": 1,
     "metadata": {},
     "output_type": "execute_result"
    }
   ],
   "source": [
    "5+5"
   ]
  },
  {
   "cell_type": "code",
   "execution_count": 19,
   "id": "7f73f736-fe0a-4dd6-9dd7-6c69bfc6dd21",
   "metadata": {},
   "outputs": [
    {
     "name": "stdout",
     "output_type": "stream",
     "text": [
      "| stdid      | stdname    | standard   | age   | Hindi | English    | Maths | Science    | Computer   | Total |\n",
      "| std101     | Ashish     | 10th       | 15    | 67    | 89         | 87    | 89         | 90         | 422   |\n",
      "| std102     | Abhishek   | 10th       | 14    | 85    | 45         | 48    | 90         | 45         | 313   |\n",
      "| std103     | Aman       | 10th       | 15    | 23    | 56         | 78    | 78         | 67         | 302   |\n",
      "| std104     | Rahul      | 10th       | 14    | 45    | 67         | 45    | 45         | 56         | 258   |\n",
      "| std105     | Ruby       | 10th       | 13    | 89    | 67         | 89    | 93         | 65         | 403   |\n",
      "| std106     | Suman      | 10th       | 13    | 90    | 46         | 67    | 67         | 67         | 337   |\n",
      "| std107     | Saurabh    | 10th       | 15    | 45    | 23         | 34    | 45         | 34         | 181   |\n",
      "| std108     | Sumit      | 10th       | 14    | 23    | 45         | 67    | 78         | 90         | 303   |\n",
      "| std109     | Kamlesh    | 10th       | 15    | 45    | 56         | 78    | 99         | 67         | 345   |\n",
      "| std110     | Rohan      | 10th       | 15    | 34    | 12         | 24    | 45         | 56         | 171   |\n",
      "\n",
      "Query 1: Names of students whose marks in English are greater than 50\n",
      " Name: Ashish  \n",
      " Name: Aman    \n",
      " Name: Ruby    \n",
      " Name: Suman   \n",
      " Name: Sumit   \n",
      " Name: Kamlesh \n",
      "\n",
      "Query 2: Names and ages of the top four scorers in Maths\n",
      " Name: Ruby       | Age: 13      |\n",
      " Name: Ashish     | Age: 15      |\n",
      " Name: Aman       | Age: 15      |\n",
      " Name: Kamlesh    | Age: 15      |\n",
      "\n",
      "Query 3:Names and ages of the bottom last scorer in Computer\n",
      " stdid: std103     | Name: Aman    | Age: 15      |\n",
      " stdid: std104     | Name: Rahul   | Age: 14      |\n",
      " stdid: std107     | Name: Saurabh | Age: 15      |\n",
      " stdid: std110     | Name: Rohan   | Age: 15      |\n"
     ]
    }
   ],
   "source": [
    "# Example of a list representing tabular data\n",
    "from tabulate import tabulate\n",
    "table = [\n",
    "    [\"stdid\",\"stdname\",\"standard\",\"age\",\"Hindi\",\"English\",\"Maths\",\"Science\",\"Computer\",\"Total\"],\n",
    "    [\"std101\",\"Ashish \",\"10th\",15,67,89,87,89,90,422],\n",
    "    [\"std102\",\"Abhishek \",\"10th\",14,85,45,48,90,45,313],\n",
    "    [\"std103\",\"Aman\",\"10th\",15,23,56,78,78,67,302],\n",
    "    [\"std104\",\"Rahul\",\"10th\",14,45,67,45,45,56,258],\n",
    "    [\"std105\",\"Ruby\",\"10th\",13,89,67,89,93,65,403],\n",
    "    [\"std106\",\"Suman\",\"10th\",13,90,46,67,67,67,337],\n",
    "    [\"std107\",\"Saurabh\",\"10th\",15,45,23,34,45,34,181],\n",
    "    [\"std108\",\"Sumit\",\"10th\",14,23,45,67,78,90,303],\n",
    "    [\"std109\",\"Kamlesh\",\"10th\",15,45,56,78,99,67,345],\n",
    "    [\"std110\",\"Rohan\",\"10th\",15,34,12,24,45,56,171]\n",
    "]\n",
    "\n",
    "# Function to print the table in a tabular format\n",
    "def print_table(table):\n",
    "    for row in table:\n",
    "        print(\"| {:<10} | {:<10} | {:<10} | {:<5} | {:<5} | {:<10} | {:<5} | {:<10} | {:<10} | {:<5} |\".format(*row))\n",
    "def query_1(table):\n",
    "    print(\"\\nQuery 1: Names of students whose marks in English are greater than 50\")\n",
    "    for row in table[1:]:  # Skip header row\n",
    "        if row[6] > 50:  # English marks is at index 6\n",
    "            print(f\" Name: {row[1]:<7} \")\n",
    "def query_2(table):\n",
    "    print(\"\\nQuery 2: Names and ages of the top four scorers in Maths\")\n",
    "    sorted_table = sorted(table[1:],key=lambda x :x[6],  reverse=True)  # Sort by Maths marks (index 6) descending\n",
    "    for row in sorted_table[:4]:\n",
    "       print(f\" Name: {row[1]:<10} | Age: {row[3]:<7} |\")\n",
    "def query_3(table):\n",
    "    print(\"\\nQuery 3:Names and ages of the bottom last scorer in Computer\")\n",
    "    sorted_table = sorted(table[1:],key=lambda x :x[9],reverse=True)\n",
    "    for row in sorted_table[6:]:\n",
    "        print(f\" stdid: {row[0]:<10} | Name: {row[1]:<7} | Age: {row[3]:<7} |\")\n",
    "# Printing the table in a tabular format\n",
    "print_table(table)\n",
    "query_1(table)\n",
    "query_2(table)\n",
    "query_3(table)\n"
   ]
  },
  {
   "cell_type": "code",
   "execution_count": 20,
   "id": "aa772416-35f3-4872-9411-5780e8f5eaad",
   "metadata": {},
   "outputs": [
    {
     "name": "stdout",
     "output_type": "stream",
     "text": [
      "{'stdid': 'std101', 'stdname': 'Anna'}\n"
     ]
    }
   ],
   "source": [
    "# dictionary\n",
    "studdata={'stdid':'std101','stdname':'Anna'}\n",
    "print(studdata)"
   ]
  },
  {
   "cell_type": "code",
   "execution_count": 21,
   "id": "1e4e30b8-244c-4b63-802e-f5363c64b3df",
   "metadata": {},
   "outputs": [
    {
     "ename": "KeyError",
     "evalue": "'Name'",
     "output_type": "error",
     "traceback": [
      "\u001b[1;31m---------------------------------------------------------------------------\u001b[0m",
      "\u001b[1;31mKeyError\u001b[0m                                  Traceback (most recent call last)",
      "Cell \u001b[1;32mIn[21], line 1\u001b[0m\n\u001b[1;32m----> 1\u001b[0m studdata\u001b[38;5;241m.\u001b[39mpop(\u001b[38;5;124m'\u001b[39m\u001b[38;5;124mName\u001b[39m\u001b[38;5;124m'\u001b[39m)\n",
      "\u001b[1;31mKeyError\u001b[0m: 'Name'"
     ]
    }
   ],
   "source": [
    "studdata.pop('Name')"
   ]
  },
  {
   "cell_type": "code",
   "execution_count": 22,
   "id": "18a817fd-7138-4f59-b7b3-04297b787296",
   "metadata": {},
   "outputs": [
    {
     "name": "stdout",
     "output_type": "stream",
     "text": [
      "{'stdid': 'std101', 'stdname': 'Anna'}\n"
     ]
    }
   ],
   "source": [
    "print(studdata)\n"
   ]
  },
  {
   "cell_type": "code",
   "execution_count": 25,
   "id": "4299c75a-a5c2-4c22-b9e2-078203124a63",
   "metadata": {},
   "outputs": [
    {
     "name": "stdout",
     "output_type": "stream",
     "text": [
      "{'stdid': 'std101'}\n"
     ]
    }
   ],
   "source": [
    "studdata.pop('stdname')\n",
    "print(studdata)\n"
   ]
  },
  {
   "cell_type": "code",
   "execution_count": 26,
   "id": "08f94706-5c83-4d22-a0ab-25c0943e4b8d",
   "metadata": {},
   "outputs": [
    {
     "name": "stdout",
     "output_type": "stream",
     "text": [
      "dict_keys(['stdid'])\n"
     ]
    }
   ],
   "source": [
    "elementKeys=studdata.keys()\n",
    "print(elementKeys)"
   ]
  },
  {
   "cell_type": "code",
   "execution_count": 27,
   "id": "d4c808b2-46b7-41f0-9b9a-bf411f2492f6",
   "metadata": {},
   "outputs": [
    {
     "name": "stdout",
     "output_type": "stream",
     "text": [
      "{'stdid': 'std101'}\n"
     ]
    }
   ],
   "source": [
    "listval=studdata.values()\n",
    "print(studdata)"
   ]
  },
  {
   "cell_type": "code",
   "execution_count": 28,
   "id": "fb67f9fa-06ef-47d3-be02-23e39244309a",
   "metadata": {},
   "outputs": [],
   "source": [
    "element=studdata.items()"
   ]
  },
  {
   "cell_type": "code",
   "execution_count": 29,
   "id": "425defb7-18ba-4be3-9f99-69c0dabf4c58",
   "metadata": {},
   "outputs": [
    {
     "name": "stdout",
     "output_type": "stream",
     "text": [
      "dict_items([('stdid', 'std101')])\n"
     ]
    }
   ],
   "source": [
    "print(element)"
   ]
  },
  {
   "cell_type": "code",
   "execution_count": 31,
   "id": "9ccd58ea-f6ae-4395-b875-be71f39a31d3",
   "metadata": {},
   "outputs": [
    {
     "name": "stdout",
     "output_type": "stream",
     "text": [
      "{'stdid': 'std101', 'stdname': 'Ashish ', 'standard': '10th', 'age': 15, 'Hindi': 67, 'English': 89, 'Maths': 87, 'Science': 89, 'Computer': 90, 'Total': 422}\n",
      "{'stdid': 'std102', 'stdname': 'Abhishek ', 'standard': '10th', 'age': 14, 'Hindi': 85, 'English': 45, 'Maths': 48, 'Science': 90, 'Computer': 45, 'Total': 313}\n",
      "{'stdid': 'std103', 'stdname': 'Aman', 'standard': '10th', 'age': 15, 'Hindi': 23, 'English': 56, 'Maths': 78, 'Science': 78, 'Computer': 67, 'Total': 302}\n",
      "{'stdid': 'std104', 'stdname': 'Rahul', 'standard': '10th', 'age': 14, 'Hindi': 45, 'English': 67, 'Maths': 45, 'Science': 45, 'Computer': 56, 'Total': 258}\n",
      "{'stdid': 'std105', 'stdname': 'Ruby', 'standard': '10th', 'age': 13, 'Hindi': 89, 'English': 67, 'Maths': 89, 'Science': 93, 'Computer': 65, 'Total': 403}\n",
      "{'stdid': 'std106', 'stdname': 'Suman', 'standard': '10th', 'age': 13, 'Hindi': 90, 'English': 46, 'Maths': 67, 'Science': 67, 'Computer': 67, 'Total': 337}\n",
      "{'stdid': 'std107', 'stdname': 'Saurabh', 'standard': '10th', 'age': 15, 'Hindi': 45, 'English': 23, 'Maths': 34, 'Science': 45, 'Computer': 34, 'Total': 181}\n",
      "{'stdid': 'std108', 'stdname': 'Sumit', 'standard': '10th', 'age': 14, 'Hindi': 23, 'English': 45, 'Maths': 67, 'Science': 78, 'Computer': 90, 'Total': 303}\n",
      "{'stdid': 'std109', 'stdname': 'Kamlesh', 'standard': '10th', 'age': 15, 'Hindi': 45, 'English': 56, 'Maths': 78, 'Science': 99, 'Computer': 67, 'Total': 345}\n",
      "{'stdid': 'std110', 'stdname': 'Rohan', 'standard': '10th', 'age': 15, 'Hindi': 34, 'English': 12, 'Maths': 24, 'Science': 45, 'Computer': 56, 'Total': 171}\n",
      "Students whose marks in English are greater than 50:\n",
      "Ashish\n",
      "Aman\n",
      "Rahul\n",
      "Ruby\n",
      "Kamlesh\n",
      "\n",
      "Names and ages of the top four scorers in Maths:\n",
      "Ruby, Age: 13\n",
      "Ashish, Age: 15\n",
      "Aman, Age: 15\n",
      "Kamlesh, Age: 15\n"
     ]
    }
   ],
   "source": [
    "table = [\n",
    "    [\"stdid\",\"stdname\",\"standard\",\"age\",\"Hindi\",\"English\",\"Maths\",\"Science\",\"Computer\",\"Total\"],\n",
    "    [\"std101\",\"Ashish \",\"10th\",15,67,89,87,89,90,422],\n",
    "    [\"std102\",\"Abhishek \",\"10th\",14,85,45,48,90,45,313],\n",
    "    [\"std103\",\"Aman\",\"10th\",15,23,56,78,78,67,302],\n",
    "    [\"std104\",\"Rahul\",\"10th\",14,45,67,45,45,56,258],\n",
    "    [\"std105\",\"Ruby\",\"10th\",13,89,67,89,93,65,403],\n",
    "    [\"std106\",\"Suman\",\"10th\",13,90,46,67,67,67,337],\n",
    "    [\"std107\",\"Saurabh\",\"10th\",15,45,23,34,45,34,181],\n",
    "    [\"std108\",\"Sumit\",\"10th\",14,23,45,67,78,90,303],\n",
    "    [\"std109\",\"Kamlesh\",\"10th\",15,45,56,78,99,67,345],\n",
    "    [\"std110\",\"Rohan\",\"10th\",15,34,12,24,45,56,171]\n",
    "]\n",
    "\n",
    "# Extracting headers and data rows separately\n",
    "headers = table[0]\n",
    "data = table[1:]\n",
    "\n",
    "# Converting the table into a list of dictionaries\n",
    "table_dict = []\n",
    "for row in data:\n",
    "    row_dict = {headers[i]: row[i] for i in range(len(headers))}\n",
    "    table_dict.append(row_dict)\n",
    "\n",
    "# Printing the table in dictionary format\n",
    "for row in table_dict:\n",
    "    print(row)\n",
    "# Assuming table_dict is already defined from the previous code\n",
    "\n",
    "# 1. Names of students whose marks in English are greater than 50\n",
    "english_greater_than_50 = [row['stdname'].strip() for row in table_dict if row['English'] > 50]\n",
    "print(\"Students whose marks in English are greater than 50:\")\n",
    "for name in english_greater_than_50:\n",
    "    print(name)\n",
    "\n",
    "# 2. Names and ages of the top four scorers in Maths\n",
    "# Sort table_dict based on Maths scores in descending order\n",
    "table_sorted_by_maths = sorted(table_dict, key=lambda x: x['Maths'], reverse=True)\n",
    "\n",
    "# Extract names and ages of the top four scorers\n",
    "top_four_scorers_maths = [(row['stdname'].strip(), row['age']) for row in table_sorted_by_maths[:4]]\n",
    "print(\"\\nNames and ages of the top four scorers in Maths:\")\n",
    "for name, age in top_four_scorers_maths:\n",
    "    print(f\"{name}, Age: {age}\")\n",
    "\n"
   ]
  },
  {
   "cell_type": "code",
   "execution_count": 37,
   "id": "f9e864d9-b0ad-4962-b389-3f31eb83b88a",
   "metadata": {},
   "outputs": [
    {
     "name": "stdout",
     "output_type": "stream",
     "text": [
      "+---------+-----------+------------+-------+---------+-----------+---------+-----------+------------+---------+\n",
      "| stdid   | stdname   | standard   |   age |   Hindi |   English |   Maths |   Science |   Computer |   Total |\n",
      "+=========+===========+============+=======+=========+===========+=========+===========+============+=========+\n",
      "| std101  | Ashish    | 10th       |    15 |      67 |        89 |      87 |        89 |         90 |     422 |\n",
      "+---------+-----------+------------+-------+---------+-----------+---------+-----------+------------+---------+\n",
      "| std102  | Abhishek  | 10th       |    14 |      85 |        45 |      48 |        90 |         45 |     313 |\n",
      "+---------+-----------+------------+-------+---------+-----------+---------+-----------+------------+---------+\n",
      "| std103  | Aman      | 10th       |    15 |      23 |        56 |      78 |        78 |         67 |     302 |\n",
      "+---------+-----------+------------+-------+---------+-----------+---------+-----------+------------+---------+\n",
      "| std104  | Rahul     | 10th       |    14 |      45 |        67 |      45 |        45 |         56 |     258 |\n",
      "+---------+-----------+------------+-------+---------+-----------+---------+-----------+------------+---------+\n",
      "| std105  | Ruby      | 10th       |    13 |      89 |        67 |      89 |        93 |         65 |     403 |\n",
      "+---------+-----------+------------+-------+---------+-----------+---------+-----------+------------+---------+\n",
      "| std106  | Suman     | 10th       |    13 |      90 |        46 |      67 |        67 |         67 |     337 |\n",
      "+---------+-----------+------------+-------+---------+-----------+---------+-----------+------------+---------+\n",
      "| std107  | Saurabh   | 10th       |    15 |      45 |        23 |      34 |        45 |         34 |     181 |\n",
      "+---------+-----------+------------+-------+---------+-----------+---------+-----------+------------+---------+\n",
      "| std108  | Sumit     | 10th       |    14 |      23 |        45 |      67 |        78 |         90 |     303 |\n",
      "+---------+-----------+------------+-------+---------+-----------+---------+-----------+------------+---------+\n",
      "| std109  | Kamlesh   | 10th       |    15 |      45 |        56 |      78 |        99 |         67 |     345 |\n",
      "+---------+-----------+------------+-------+---------+-----------+---------+-----------+------------+---------+\n",
      "| std110  | Rohan     | 10th       |    15 |      34 |        12 |      24 |        45 |         56 |     171 |\n",
      "+---------+-----------+------------+-------+---------+-----------+---------+-----------+------------+---------+\n",
      "\n",
      "Q.1.)Students whose marks in English are greater than 50:\n",
      "+---------+-------+\n",
      "| Name    |   Age |\n",
      "+=========+=======+\n",
      "| Ashish  |    15 |\n",
      "+---------+-------+\n",
      "| Aman    |    15 |\n",
      "+---------+-------+\n",
      "| Rahul   |    14 |\n",
      "+---------+-------+\n",
      "| Ruby    |    13 |\n",
      "+---------+-------+\n",
      "| Kamlesh |    15 |\n",
      "+---------+-------+\n",
      "\n",
      "Q.2.)Names and ages of the top four scorers in Maths:\n",
      "+---------+-------+\n",
      "| Name    |   Age |\n",
      "+=========+=======+\n",
      "| Ruby    |    13 |\n",
      "+---------+-------+\n",
      "| Ashish  |    15 |\n",
      "+---------+-------+\n",
      "| Aman    |    15 |\n",
      "+---------+-------+\n",
      "| Kamlesh |    15 |\n",
      "+---------+-------+\n"
     ]
    }
   ],
   "source": [
    "from tabulate import tabulate\n",
    "\n",
    "# Assuming the dictionaries are stored in a list named `table_dict`\n",
    "table = [\n",
    "    {\"stdid\": \"std101\", \"stdname\": \"Ashish \", \"standard\": \"10th\", \"age\": 15, \"Hindi\": 67, \"English\": 89, \"Maths\": 87, \"Science\": 89, \"Computer\": 90, \"Total\": 422},\n",
    "    {\"stdid\": \"std102\", \"stdname\": \"Abhishek \", \"standard\": \"10th\", \"age\": 14, \"Hindi\": 85, \"English\": 45, \"Maths\": 48, \"Science\": 90, \"Computer\": 45, \"Total\": 313},\n",
    "    {\"stdid\": \"std103\", \"stdname\": \"Aman\", \"standard\": \"10th\", \"age\": 15, \"Hindi\": 23, \"English\": 56, \"Maths\": 78, \"Science\": 78, \"Computer\": 67, \"Total\": 302},\n",
    "    {\"stdid\": \"std104\", \"stdname\": \"Rahul\", \"standard\": \"10th\", \"age\": 14, \"Hindi\": 45, \"English\": 67, \"Maths\": 45, \"Science\": 45, \"Computer\": 56, \"Total\": 258},\n",
    "    {\"stdid\": \"std105\", \"stdname\": \"Ruby\", \"standard\": \"10th\", \"age\": 13, \"Hindi\": 89, \"English\": 67, \"Maths\": 89, \"Science\": 93, \"Computer\": 65, \"Total\": 403},\n",
    "    {\"stdid\": \"std106\", \"stdname\": \"Suman\", \"standard\": \"10th\", \"age\": 13, \"Hindi\": 90, \"English\": 46, \"Maths\": 67, \"Science\": 67, \"Computer\": 67, \"Total\": 337},\n",
    "    {\"stdid\": \"std107\", \"stdname\": \"Saurabh\", \"standard\": \"10th\", \"age\": 15, \"Hindi\": 45, \"English\": 23, \"Maths\": 34, \"Science\": 45, \"Computer\": 34, \"Total\": 181},\n",
    "    {\"stdid\": \"std108\", \"stdname\": \"Sumit\", \"standard\": \"10th\", \"age\": 14, \"Hindi\": 23, \"English\": 45, \"Maths\": 67, \"Science\": 78, \"Computer\": 90, \"Total\": 303},\n",
    "    {\"stdid\": \"std109\", \"stdname\": \"Kamlesh\", \"standard\": \"10th\", \"age\": 15, \"Hindi\": 45, \"English\": 56, \"Maths\": 78, \"Science\": 99, \"Computer\": 67, \"Total\": 345},\n",
    "    {\"stdid\": \"std110\", \"stdname\": \"Rohan\", \"standard\": \"10th\", \"age\": 15, \"Hindi\": 34, \"English\": 12, \"Maths\": 24, \"Science\": 45, \"Computer\": 56, \"Total\": 171}\n",
    "]\n",
    "\n",
    "# Convert the list of dictionaries into a list of lists for tabulate\n",
    "table_data = []\n",
    "for row in table:\n",
    "    table_data.append([row['stdid'], row['stdname'], row['standard'], row['age'],\n",
    "                       row['Hindi'], row['English'], row['Maths'], row['Science'],\n",
    "                       row['Computer'], row['Total']])\n",
    "\n",
    "# Define headers for the table\n",
    "headers = [\"stdid\", \"stdname\", \"standard\", \"age\", \"Hindi\", \"English\", \"Maths\", \"Science\", \"Computer\", \"Total\"]\n",
    "\n",
    "# Print the table using tabulate\n",
    "print(tabulate(table_data, headers=headers, tablefmt=\"grid\"))\n",
    "\n",
    "# Filter the students based on marks in English greater than 50\n",
    "filtered_students = [student for student in table if student['English'] > 50]\n",
    "\n",
    "# Extract relevant information (stdname and age) for the filtered students\n",
    "filtered_data = [[student['stdname'], student['age']] for student in filtered_students]\n",
    "\n",
    "# Print the results using tabulate\n",
    "print(\"\\nQ.1.)Students whose marks in English are greater than 50:\")\n",
    "print(tabulate(filtered_data, headers=[\"Name\", \"Age\"], tablefmt=\"grid\"))\n",
    "\n",
    "\n",
    "# Sort students based on marks in Maths (descending order)\n",
    "sorted_students = sorted(table, key=lambda x: x['Maths'], reverse=True)\n",
    "\n",
    "# Extract names and ages of the top four scorers\n",
    "top_scorers = [[student['stdname'], student['age']] for student in sorted_students[:4]]\n",
    "\n",
    "# Print the results using tabulate\n",
    "print(\"\\nQ.2.)Names and ages of the top four scorers in Maths:\")\n",
    "print(tabulate(top_scorers, headers=[\"Name\", \"Age\"], tablefmt=\"grid\"))\n",
    "\n"
   ]
  },
  {
   "cell_type": "code",
   "execution_count": null,
   "id": "5358ca09-9b95-4633-946c-1dc8675a57ce",
   "metadata": {},
   "outputs": [],
   "source": []
  }
 ],
 "metadata": {
  "kernelspec": {
   "display_name": "Python 3 (ipykernel)",
   "language": "python",
   "name": "python3"
  },
  "language_info": {
   "codemirror_mode": {
    "name": "ipython",
    "version": 3
   },
   "file_extension": ".py",
   "mimetype": "text/x-python",
   "name": "python",
   "nbconvert_exporter": "python",
   "pygments_lexer": "ipython3",
   "version": "3.12.4"
  }
 },
 "nbformat": 4,
 "nbformat_minor": 5
}
